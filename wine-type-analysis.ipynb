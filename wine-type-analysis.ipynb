{
 "cells": [
  {
   "cell_type": "markdown",
   "metadata": {},
   "source": [
    "# Wine Quality Analysis and Model parameter tuning."
   ]
  },
  {
   "cell_type": "markdown",
   "metadata": {},
   "source": [
    "#### This work includes, basic data visualization, Modeling with XGB and also parameter tuning. After this we will come to know which set of parameters will give best accuracy after tuning. Here we have used Grid Search, Randomized search and Bayes Optimization techniques to tune the parameters."
   ]
  },
  {
   "cell_type": "code",
   "execution_count": 1,
   "metadata": {},
   "outputs": [],
   "source": [
    "#Clear ipython memory\n",
    "%reset -f\n",
    "\n",
    "#Data manipulation and plotting modules\n",
    "import numpy as np\n",
    "import pandas as pd\n",
    "import matplotlib.pyplot as plt\n",
    "from xgboost import plot_importance\n",
    "import seaborn as sns\n",
    "\n",
    "#Call Standarad Scaler\n",
    "from sklearn.preprocessing import StandardScaler as ss\n",
    "\n",
    "#Cal PCA for Dimensionality reduction\n",
    "from sklearn.decomposition import PCA\n",
    "\n",
    "#Data splitting and model parameter search\n",
    "from sklearn.model_selection import train_test_split\n",
    "from sklearn.model_selection import GridSearchCV\n",
    "from sklearn.model_selection import RandomizedSearchCV\n",
    "from bayes_opt import BayesianOptimization\n",
    "\n",
    "#Call Modeling module, we will be using XBG for modeling.\n",
    "from xgboost.sklearn import XGBClassifier\n",
    "from sklearn.metrics import precision_recall_fscore_support\n",
    "\n",
    "#Model pipelining\n",
    "from sklearn.pipeline import Pipeline\n",
    "from sklearn.pipeline import make_pipeline\n",
    "\n",
    "\n",
    "#Model evaluation metrics\n",
    "from sklearn.metrics import accuracy_score\n",
    "from sklearn.metrics import auc, roc_curve\n",
    "from sklearn.metrics import confusion_matrix\n",
    "\n",
    "# This is needed for Bayes optimization takes an estimator, performs cross-validation\n",
    "# and gives out average score\n",
    "from sklearn.model_selection import cross_val_score\n",
    "\n",
    "#Find feature importance of ANY BLACK BOX estimator\n",
    "import eli5\n",
    "from eli5.sklearn import PermutationImportance\n",
    "\n",
    "\n",
    "#Misc\n",
    "import time\n",
    "import os\n",
    "import gc\n",
    "import random\n",
    "from scipy.stats import uniform\n",
    "\n",
    "#Set option to dislay many rows\n",
    "pd.set_option('display.max_columns', 100)\n"
   ]
  },
  {
   "cell_type": "code",
   "execution_count": 2,
   "metadata": {},
   "outputs": [
    {
     "name": "stdout",
     "output_type": "stream",
     "text": [
      "['winequalityN.csv']\n"
     ]
    }
   ],
   "source": [
    "# Set working directory and set the filename\n",
    "print(os.listdir(\"../input\"))\n",
    "os.listdir()\n",
    "tr_f = \"../input/winequalityN.csv\""
   ]
  },
  {
   "cell_type": "code",
   "execution_count": 3,
   "metadata": {},
   "outputs": [],
   "source": [
    "# Total number of rows. Here I am reading 99% rows, just wanted to show we can also read part of data.\n",
    "total_lines = 6498\n",
    "num_lines = 0.99 * total_lines    # 99% of data\n",
    "num_lines\n",
    "p = num_lines/total_lines\n",
    "df = pd.read_csv(tr_f,header=0, # First row is header-row\n",
    "         skiprows=lambda i: (i>0) and (random.random() > p))"
   ]
  },
  {
   "cell_type": "code",
   "execution_count": 4,
   "metadata": {},
   "outputs": [
    {
     "name": "stdout",
     "output_type": "stream",
     "text": [
      "type                     0\n",
      "fixed acidity           10\n",
      "volatile acidity         8\n",
      "citric acid              3\n",
      "residual sugar           2\n",
      "chlorides                2\n",
      "free sulfur dioxide      0\n",
      "total sulfur dioxide     0\n",
      "density                  0\n",
      "pH                       9\n",
      "sulphates                4\n",
      "alcohol                  0\n",
      "quality                  0\n",
      "dtype: int64\n"
     ]
    },
    {
     "data": {
      "text/plain": [
       "type                    0\n",
       "fixed acidity           0\n",
       "volatile acidity        0\n",
       "citric acid             0\n",
       "residual sugar          0\n",
       "chlorides               0\n",
       "free sulfur dioxide     0\n",
       "total sulfur dioxide    0\n",
       "density                 0\n",
       "pH                      0\n",
       "sulphates               0\n",
       "alcohol                 0\n",
       "quality                 0\n",
       "dtype: int64"
      ]
     },
     "execution_count": 4,
     "metadata": {},
     "output_type": "execute_result"
    }
   ],
   "source": [
    "#Below is the code to check and remove the any NaN values present in the rows.\n",
    "print (df.isnull().sum())\n",
    "data=df.dropna()\n",
    "data.isnull().sum()"
   ]
  },
  {
   "cell_type": "markdown",
   "metadata": {},
   "source": [
    "## Basic data visualization"
   ]
  },
  {
   "cell_type": "code",
   "execution_count": 5,
   "metadata": {},
   "outputs": [
    {
     "data": {
      "text/plain": [
       "(6406, 13)"
      ]
     },
     "execution_count": 5,
     "metadata": {},
     "output_type": "execute_result"
    }
   ],
   "source": [
    "data.shape"
   ]
  },
  {
   "cell_type": "code",
   "execution_count": 6,
   "metadata": {},
   "outputs": [
    {
     "data": {
      "text/plain": [
       "array(['type', 'fixed acidity', 'volatile acidity', 'citric acid',\n",
       "       'residual sugar', 'chlorides', 'free sulfur dioxide',\n",
       "       'total sulfur dioxide', 'density', 'pH', 'sulphates', 'alcohol',\n",
       "       'quality'], dtype=object)"
      ]
     },
     "execution_count": 6,
     "metadata": {},
     "output_type": "execute_result"
    }
   ],
   "source": [
    "data.columns.values "
   ]
  },
  {
   "cell_type": "code",
   "execution_count": 7,
   "metadata": {},
   "outputs": [
    {
     "data": {
      "text/plain": [
       "float64    11\n",
       "object      1\n",
       "int64       1\n",
       "dtype: int64"
      ]
     },
     "execution_count": 7,
     "metadata": {},
     "output_type": "execute_result"
    }
   ],
   "source": [
    "data.dtypes.value_counts() "
   ]
  },
  {
   "cell_type": "code",
   "execution_count": 8,
   "metadata": {},
   "outputs": [
    {
     "data": {
      "text/html": [
       "<div>\n",
       "<style scoped>\n",
       "    .dataframe tbody tr th:only-of-type {\n",
       "        vertical-align: middle;\n",
       "    }\n",
       "\n",
       "    .dataframe tbody tr th {\n",
       "        vertical-align: top;\n",
       "    }\n",
       "\n",
       "    .dataframe thead th {\n",
       "        text-align: right;\n",
       "    }\n",
       "</style>\n",
       "<table border=\"1\" class=\"dataframe\">\n",
       "  <thead>\n",
       "    <tr style=\"text-align: right;\">\n",
       "      <th></th>\n",
       "      <th>type</th>\n",
       "      <th>fixed acidity</th>\n",
       "      <th>volatile acidity</th>\n",
       "      <th>citric acid</th>\n",
       "      <th>residual sugar</th>\n",
       "      <th>chlorides</th>\n",
       "      <th>free sulfur dioxide</th>\n",
       "      <th>total sulfur dioxide</th>\n",
       "      <th>density</th>\n",
       "      <th>pH</th>\n",
       "      <th>sulphates</th>\n",
       "      <th>alcohol</th>\n",
       "      <th>quality</th>\n",
       "    </tr>\n",
       "  </thead>\n",
       "  <tbody>\n",
       "    <tr>\n",
       "      <th>0</th>\n",
       "      <td>white</td>\n",
       "      <td>7.0</td>\n",
       "      <td>0.27</td>\n",
       "      <td>0.36</td>\n",
       "      <td>20.7</td>\n",
       "      <td>0.045</td>\n",
       "      <td>45.0</td>\n",
       "      <td>170.0</td>\n",
       "      <td>1.0010</td>\n",
       "      <td>3.00</td>\n",
       "      <td>0.45</td>\n",
       "      <td>8.8</td>\n",
       "      <td>6</td>\n",
       "    </tr>\n",
       "    <tr>\n",
       "      <th>1</th>\n",
       "      <td>white</td>\n",
       "      <td>6.3</td>\n",
       "      <td>0.30</td>\n",
       "      <td>0.34</td>\n",
       "      <td>1.6</td>\n",
       "      <td>0.049</td>\n",
       "      <td>14.0</td>\n",
       "      <td>132.0</td>\n",
       "      <td>0.9940</td>\n",
       "      <td>3.30</td>\n",
       "      <td>0.49</td>\n",
       "      <td>9.5</td>\n",
       "      <td>6</td>\n",
       "    </tr>\n",
       "    <tr>\n",
       "      <th>2</th>\n",
       "      <td>white</td>\n",
       "      <td>8.1</td>\n",
       "      <td>0.28</td>\n",
       "      <td>0.40</td>\n",
       "      <td>6.9</td>\n",
       "      <td>0.050</td>\n",
       "      <td>30.0</td>\n",
       "      <td>97.0</td>\n",
       "      <td>0.9951</td>\n",
       "      <td>3.26</td>\n",
       "      <td>0.44</td>\n",
       "      <td>10.1</td>\n",
       "      <td>6</td>\n",
       "    </tr>\n",
       "  </tbody>\n",
       "</table>\n",
       "</div>"
      ],
      "text/plain": [
       "    type  fixed acidity  volatile acidity  citric acid  residual sugar  \\\n",
       "0  white            7.0              0.27         0.36            20.7   \n",
       "1  white            6.3              0.30         0.34             1.6   \n",
       "2  white            8.1              0.28         0.40             6.9   \n",
       "\n",
       "   chlorides  free sulfur dioxide  total sulfur dioxide  density    pH  \\\n",
       "0      0.045                 45.0                 170.0   1.0010  3.00   \n",
       "1      0.049                 14.0                 132.0   0.9940  3.30   \n",
       "2      0.050                 30.0                  97.0   0.9951  3.26   \n",
       "\n",
       "   sulphates  alcohol  quality  \n",
       "0       0.45      8.8        6  \n",
       "1       0.49      9.5        6  \n",
       "2       0.44     10.1        6  "
      ]
     },
     "execution_count": 8,
     "metadata": {},
     "output_type": "execute_result"
    }
   ],
   "source": [
    "data.head(3)"
   ]
  },
  {
   "cell_type": "code",
   "execution_count": 9,
   "metadata": {},
   "outputs": [
    {
     "data": {
      "text/html": [
       "<div>\n",
       "<style scoped>\n",
       "    .dataframe tbody tr th:only-of-type {\n",
       "        vertical-align: middle;\n",
       "    }\n",
       "\n",
       "    .dataframe tbody tr th {\n",
       "        vertical-align: top;\n",
       "    }\n",
       "\n",
       "    .dataframe thead th {\n",
       "        text-align: right;\n",
       "    }\n",
       "</style>\n",
       "<table border=\"1\" class=\"dataframe\">\n",
       "  <thead>\n",
       "    <tr style=\"text-align: right;\">\n",
       "      <th></th>\n",
       "      <th>fixed acidity</th>\n",
       "      <th>volatile acidity</th>\n",
       "      <th>citric acid</th>\n",
       "      <th>residual sugar</th>\n",
       "      <th>chlorides</th>\n",
       "      <th>free sulfur dioxide</th>\n",
       "      <th>total sulfur dioxide</th>\n",
       "      <th>density</th>\n",
       "      <th>pH</th>\n",
       "      <th>sulphates</th>\n",
       "      <th>alcohol</th>\n",
       "      <th>quality</th>\n",
       "    </tr>\n",
       "  </thead>\n",
       "  <tbody>\n",
       "    <tr>\n",
       "      <th>count</th>\n",
       "      <td>6406.000000</td>\n",
       "      <td>6406.000000</td>\n",
       "      <td>6406.000000</td>\n",
       "      <td>6406.000000</td>\n",
       "      <td>6406.000000</td>\n",
       "      <td>6406.000000</td>\n",
       "      <td>6406.000000</td>\n",
       "      <td>6406.000000</td>\n",
       "      <td>6406.000000</td>\n",
       "      <td>6406.000000</td>\n",
       "      <td>6406.000000</td>\n",
       "      <td>6406.000000</td>\n",
       "    </tr>\n",
       "    <tr>\n",
       "      <th>mean</th>\n",
       "      <td>7.219287</td>\n",
       "      <td>0.339313</td>\n",
       "      <td>0.319081</td>\n",
       "      <td>5.445793</td>\n",
       "      <td>0.056073</td>\n",
       "      <td>30.500624</td>\n",
       "      <td>115.628864</td>\n",
       "      <td>0.994700</td>\n",
       "      <td>3.218138</td>\n",
       "      <td>0.531065</td>\n",
       "      <td>10.492028</td>\n",
       "      <td>5.818764</td>\n",
       "    </tr>\n",
       "    <tr>\n",
       "      <th>std</th>\n",
       "      <td>1.298385</td>\n",
       "      <td>0.164109</td>\n",
       "      <td>0.145266</td>\n",
       "      <td>4.758455</td>\n",
       "      <td>0.035095</td>\n",
       "      <td>17.765591</td>\n",
       "      <td>56.548055</td>\n",
       "      <td>0.003003</td>\n",
       "      <td>0.160522</td>\n",
       "      <td>0.148111</td>\n",
       "      <td>1.193123</td>\n",
       "      <td>0.872566</td>\n",
       "    </tr>\n",
       "    <tr>\n",
       "      <th>min</th>\n",
       "      <td>3.800000</td>\n",
       "      <td>0.080000</td>\n",
       "      <td>0.000000</td>\n",
       "      <td>0.600000</td>\n",
       "      <td>0.009000</td>\n",
       "      <td>1.000000</td>\n",
       "      <td>6.000000</td>\n",
       "      <td>0.987110</td>\n",
       "      <td>2.720000</td>\n",
       "      <td>0.220000</td>\n",
       "      <td>8.000000</td>\n",
       "      <td>3.000000</td>\n",
       "    </tr>\n",
       "    <tr>\n",
       "      <th>25%</th>\n",
       "      <td>6.400000</td>\n",
       "      <td>0.230000</td>\n",
       "      <td>0.250000</td>\n",
       "      <td>1.800000</td>\n",
       "      <td>0.038000</td>\n",
       "      <td>17.000000</td>\n",
       "      <td>77.000000</td>\n",
       "      <td>0.992340</td>\n",
       "      <td>3.110000</td>\n",
       "      <td>0.430000</td>\n",
       "      <td>9.500000</td>\n",
       "      <td>5.000000</td>\n",
       "    </tr>\n",
       "    <tr>\n",
       "      <th>50%</th>\n",
       "      <td>7.000000</td>\n",
       "      <td>0.290000</td>\n",
       "      <td>0.310000</td>\n",
       "      <td>3.000000</td>\n",
       "      <td>0.047000</td>\n",
       "      <td>29.000000</td>\n",
       "      <td>118.000000</td>\n",
       "      <td>0.994900</td>\n",
       "      <td>3.210000</td>\n",
       "      <td>0.510000</td>\n",
       "      <td>10.300000</td>\n",
       "      <td>6.000000</td>\n",
       "    </tr>\n",
       "    <tr>\n",
       "      <th>75%</th>\n",
       "      <td>7.700000</td>\n",
       "      <td>0.400000</td>\n",
       "      <td>0.390000</td>\n",
       "      <td>8.100000</td>\n",
       "      <td>0.065000</td>\n",
       "      <td>41.000000</td>\n",
       "      <td>156.000000</td>\n",
       "      <td>0.997000</td>\n",
       "      <td>3.320000</td>\n",
       "      <td>0.600000</td>\n",
       "      <td>11.300000</td>\n",
       "      <td>6.000000</td>\n",
       "    </tr>\n",
       "    <tr>\n",
       "      <th>max</th>\n",
       "      <td>15.900000</td>\n",
       "      <td>1.580000</td>\n",
       "      <td>1.660000</td>\n",
       "      <td>65.800000</td>\n",
       "      <td>0.611000</td>\n",
       "      <td>289.000000</td>\n",
       "      <td>440.000000</td>\n",
       "      <td>1.038980</td>\n",
       "      <td>4.010000</td>\n",
       "      <td>2.000000</td>\n",
       "      <td>14.900000</td>\n",
       "      <td>9.000000</td>\n",
       "    </tr>\n",
       "  </tbody>\n",
       "</table>\n",
       "</div>"
      ],
      "text/plain": [
       "       fixed acidity  volatile acidity  citric acid  residual sugar  \\\n",
       "count    6406.000000       6406.000000  6406.000000     6406.000000   \n",
       "mean        7.219287          0.339313     0.319081        5.445793   \n",
       "std         1.298385          0.164109     0.145266        4.758455   \n",
       "min         3.800000          0.080000     0.000000        0.600000   \n",
       "25%         6.400000          0.230000     0.250000        1.800000   \n",
       "50%         7.000000          0.290000     0.310000        3.000000   \n",
       "75%         7.700000          0.400000     0.390000        8.100000   \n",
       "max        15.900000          1.580000     1.660000       65.800000   \n",
       "\n",
       "         chlorides  free sulfur dioxide  total sulfur dioxide      density  \\\n",
       "count  6406.000000          6406.000000           6406.000000  6406.000000   \n",
       "mean      0.056073            30.500624            115.628864     0.994700   \n",
       "std       0.035095            17.765591             56.548055     0.003003   \n",
       "min       0.009000             1.000000              6.000000     0.987110   \n",
       "25%       0.038000            17.000000             77.000000     0.992340   \n",
       "50%       0.047000            29.000000            118.000000     0.994900   \n",
       "75%       0.065000            41.000000            156.000000     0.997000   \n",
       "max       0.611000           289.000000            440.000000     1.038980   \n",
       "\n",
       "                pH    sulphates      alcohol      quality  \n",
       "count  6406.000000  6406.000000  6406.000000  6406.000000  \n",
       "mean      3.218138     0.531065    10.492028     5.818764  \n",
       "std       0.160522     0.148111     1.193123     0.872566  \n",
       "min       2.720000     0.220000     8.000000     3.000000  \n",
       "25%       3.110000     0.430000     9.500000     5.000000  \n",
       "50%       3.210000     0.510000    10.300000     6.000000  \n",
       "75%       3.320000     0.600000    11.300000     6.000000  \n",
       "max       4.010000     2.000000    14.900000     9.000000  "
      ]
     },
     "execution_count": 9,
     "metadata": {},
     "output_type": "execute_result"
    }
   ],
   "source": [
    "data.describe()"
   ]
  },
  {
   "cell_type": "code",
   "execution_count": 10,
   "metadata": {},
   "outputs": [
    {
     "data": {
      "text/plain": [
       "white    4826\n",
       "red      1580\n",
       "Name: type, dtype: int64"
      ]
     },
     "execution_count": 10,
     "metadata": {},
     "output_type": "execute_result"
    }
   ],
   "source": [
    "data.type.value_counts()"
   ]
  },
  {
   "cell_type": "markdown",
   "metadata": {},
   "source": [
    "### Draw some graphs to understand the data more."
   ]
  },
  {
   "cell_type": "code",
   "execution_count": 11,
   "metadata": {},
   "outputs": [
    {
     "data": {
      "text/plain": [
       "<matplotlib.axes._subplots.AxesSubplot at 0x7f466da8eb00>"
      ]
     },
     "execution_count": 11,
     "metadata": {},
     "output_type": "execute_result"
    },
    {
     "data": {
      "image/png": "[encoded data removed]",
      "text/plain": [
       "<Figure size 432x288 with 1 Axes>"
      ]
     },
     "metadata": {},
     "output_type": "display_data"
    }
   ],
   "source": [
    "# Box plot to show quality and fixed acidity\n",
    "sns.boxplot(x='quality',y='fixed acidity', data=data)"
   ]
  },
  {
   "cell_type": "code",
   "execution_count": 12,
   "metadata": {},
   "outputs": [
    {
     "data": {
      "text/plain": [
       "<matplotlib.axes._subplots.AxesSubplot at 0x7f466a13aeb8>"
      ]
     },
     "execution_count": 12,
     "metadata": {},
     "output_type": "execute_result"
    },
    {
     "data": {
      "image/png": "[encoded data removed]",
      "text/plain": [
       "<Figure size 432x288 with 1 Axes>"
      ]
     },
     "metadata": {},
     "output_type": "display_data"
    }
   ],
   "source": [
    "# Count plot to show how many white and red wine types are there.\n",
    "sns.countplot(x='type',data=data)"
   ]
  },
  {
   "cell_type": "code",
   "execution_count": 13,
   "metadata": {},
   "outputs": [
    {
     "name": "stderr",
     "output_type": "stream",
     "text": [
      "/opt/conda/lib/python3.6/site-packages/scipy/stats/stats.py:1713: FutureWarning: Using a non-tuple sequence for multidimensional indexing is deprecated; use `arr[tuple(seq)]` instead of `arr[seq]`. In the future this will be interpreted as an array index, `arr[np.array(seq)]`, which will result either in an error or a different result.\n",
      "  return np.add.reduce(sorted[indexer] * weights, axis=axis) / sumval\n"
     ]
    },
    {
     "data": {
      "text/plain": [
       "<matplotlib.axes._subplots.AxesSubplot at 0x7f466a104048>"
      ]
     },
     "execution_count": 13,
     "metadata": {},
     "output_type": "execute_result"
    },
    {
     "data": {
      "image/png": "[encoded data removed]",
      "text/plain": [
       "<Figure size 432x288 with 1 Axes>"
      ]
     },
     "metadata": {},
     "output_type": "display_data"
    }
   ],
   "source": [
    "#Bar plot to show the quality and fixed acidity\n",
    "sns.barplot(x = 'quality', y = 'fixed acidity', data = data)"
   ]
  },
  {
   "cell_type": "code",
   "execution_count": 14,
   "metadata": {},
   "outputs": [
    {
     "data": {
      "text/plain": [
       "<matplotlib.axes._subplots.AxesSubplot at 0x7f4669d7a048>"
      ]
     },
     "execution_count": 14,
     "metadata": {},
     "output_type": "execute_result"
    },
    {
     "data": {
      "image/png": "[encoded data removed]",
      "text/plain": [
       "<Figure size 432x288 with 2 Axes>"
      ]
     },
     "metadata": {},
     "output_type": "display_data"
    }
   ],
   "source": [
    "# Heat map to show the correlation between the feature columns.\n",
    "sns.heatmap(data.corr(),annot=True)"
   ]
  },
  {
   "cell_type": "code",
   "execution_count": 15,
   "metadata": {},
   "outputs": [
    {
     "data": {
      "text/plain": [
       "<matplotlib.axes._subplots.AxesSubplot at 0x7f46619250b8>"
      ]
     },
     "execution_count": 15,
     "metadata": {},
     "output_type": "execute_result"
    },
    {
     "data": {
      "image/png": "[encoded data removed]",
      "text/plain": [
       "<Figure size 432x288 with 1 Axes>"
      ]
     },
     "metadata": {},
     "output_type": "display_data"
    }
   ],
   "source": [
    "#Scatter plot to show the qulity and fixed acidity\n",
    "sns.scatterplot(\"quality\",\"fixed acidity\",data=data)"
   ]
  },
  {
   "cell_type": "code",
   "execution_count": 16,
   "metadata": {},
   "outputs": [
    {
     "data": {
      "text/plain": [
       "<matplotlib.axes._subplots.AxesSubplot at 0x7f4660080208>"
      ]
     },
     "execution_count": 16,
     "metadata": {},
     "output_type": "execute_result"
    },
    {
     "data": {
      "image/png": "[encoded data removed]",
      "text/plain": [
       "<Figure size 432x288 with 1 Axes>"
      ]
     },
     "metadata": {},
     "output_type": "display_data"
    }
   ],
   "source": [
    "#boxplot to show quality and volatile acidty with type as hue parameter.\n",
    "sns.boxplot(x=\"quality\", y=\"volatile acidity\",hue='type',data=data)"
   ]
  },
  {
   "cell_type": "markdown",
   "metadata": {},
   "source": [
    "## Modelling and parameter tuning"
   ]
  },
  {
   "cell_type": "code",
   "execution_count": 17,
   "metadata": {},
   "outputs": [
    {
     "name": "stdout",
     "output_type": "stream",
     "text": [
      "   fixed acidity  volatile acidity  citric acid  residual sugar  chlorides  \\\n",
      "0            7.0              0.27         0.36            20.7      0.045   \n",
      "1            6.3              0.30         0.34             1.6      0.049   \n",
      "\n",
      "   free sulfur dioxide  total sulfur dioxide  density   pH  sulphates  \\\n",
      "0                 45.0                 170.0    1.001  3.0       0.45   \n",
      "1                 14.0                 132.0    0.994  3.3       0.49   \n",
      "\n",
      "   alcohol  quality  \n",
      "0      8.8        6  \n",
      "1      9.5        6  \n"
     ]
    },
    {
     "data": {
      "text/plain": [
       "0    white\n",
       "1    white\n",
       "Name: type, dtype: object"
      ]
     },
     "execution_count": 17,
     "metadata": {},
     "output_type": "execute_result"
    }
   ],
   "source": [
    "# Separate the feature and target columns\n",
    "X = data.iloc[ :, 1:13]\n",
    "print (X.head(2))\n",
    "y = data.iloc[ : , 0]\n",
    "y.head(2)"
   ]
  },
  {
   "cell_type": "code",
   "execution_count": 18,
   "metadata": {},
   "outputs": [
    {
     "data": {
      "text/plain": [
       "dtype('int64')"
      ]
     },
     "execution_count": 18,
     "metadata": {},
     "output_type": "execute_result"
    }
   ],
   "source": [
    "#Map the target data to '1' and '0'\n",
    "y = y.map({'white':1, 'red' : 0})\n",
    "y.dtype"
   ]
  },
  {
   "cell_type": "code",
   "execution_count": 19,
   "metadata": {},
   "outputs": [
    {
     "data": {
      "text/plain": [
       "0    1\n",
       "1    1\n",
       "2    1\n",
       "3    1\n",
       "4    1\n",
       "Name: type, dtype: int64"
      ]
     },
     "execution_count": 19,
     "metadata": {},
     "output_type": "execute_result"
    }
   ],
   "source": [
    "y.head()"
   ]
  },
  {
   "cell_type": "code",
   "execution_count": 20,
   "metadata": {},
   "outputs": [],
   "source": [
    "# Split dataset into train and validation parts\n",
    "X_train, X_test, y_train, y_test = train_test_split(X,\n",
    "                                                    y,\n",
    "                                                    test_size=0.35,\n",
    "                                                    shuffle = True\n",
    "                                                    )"
   ]
  },
  {
   "cell_type": "code",
   "execution_count": 21,
   "metadata": {},
   "outputs": [
    {
     "name": "stdout",
     "output_type": "stream",
     "text": [
      "(4163, 12)\n",
      "(2243, 12)\n",
      "(4163,)\n",
      "(2243,)\n"
     ]
    }
   ],
   "source": [
    "print (X_train.shape)        \n",
    "print (X_test.shape)         \n",
    "print (y_train.shape)        \n",
    "print (y_test.shape)"
   ]
  },
  {
   "cell_type": "code",
   "execution_count": 22,
   "metadata": {},
   "outputs": [],
   "source": [
    "# Pipelining\n",
    "steps_xg = [('sts', ss() ),\n",
    "            ('pca', PCA()),\n",
    "            ('xg',  XGBClassifier(silent = False,\n",
    "                                  n_jobs=2)        \n",
    "            )\n",
    "            ]\n",
    "pipe_xg = Pipeline(steps_xg)"
   ]
  },
  {
   "cell_type": "markdown",
   "metadata": {},
   "source": [
    "### Grid Search"
   ]
  },
  {
   "cell_type": "code",
   "execution_count": 23,
   "metadata": {},
   "outputs": [],
   "source": [
    "parameters = {'xg__learning_rate':  [0, 1],\n",
    "              'xg__n_estimators':   [50,  100],  \n",
    "              'xg__max_depth':      [3,5],\n",
    "              'pca__n_components' : [5,7] }"
   ]
  },
  {
   "cell_type": "code",
   "execution_count": 24,
   "metadata": {},
   "outputs": [],
   "source": [
    "clf = GridSearchCV(pipe_xg,            # pipeline object\n",
    "                   parameters,         # possible parameters\n",
    "                   n_jobs = 2,         # USe parallel cpu threads\n",
    "                   cv =2 ,             # No of folds\n",
    "                   verbose =2,         # Higher the value, more the verbosity\n",
    "                   scoring = ['accuracy', 'roc_auc'],  # Metrics for performance\n",
    "                   refit = 'roc_auc'   # Refitting final model on what parameters?\n",
    "                                       # Those which maximise auc\n",
    "                   )"
   ]
  },
  {
   "cell_type": "code",
   "execution_count": 25,
   "metadata": {},
   "outputs": [
    {
     "name": "stdout",
     "output_type": "stream",
     "text": [
      "Fitting 2 folds for each of 16 candidates, totalling 32 fits\n"
     ]
    },
    {
     "name": "stderr",
     "output_type": "stream",
     "text": [
      "[Parallel(n_jobs=2)]: Using backend LokyBackend with 2 concurrent workers.\n",
      "[Parallel(n_jobs=2)]: Done  32 out of  32 | elapsed:    8.7s finished\n",
      "/opt/conda/lib/python3.6/site-packages/sklearn/preprocessing/data.py:645: DataConversionWarning: Data with input dtype int64, float64 were all converted to float64 by StandardScaler.\n",
      "  return self.partial_fit(X, y)\n",
      "/opt/conda/lib/python3.6/site-packages/sklearn/base.py:467: DataConversionWarning: Data with input dtype int64, float64 were all converted to float64 by StandardScaler.\n",
      "  return self.fit(X, y, **fit_params).transform(X)\n"
     ]
    },
    {
     "data": {
      "text/plain": [
       "0.14891998370488485"
      ]
     },
     "execution_count": 25,
     "metadata": {},
     "output_type": "execute_result"
    }
   ],
   "source": [
    "start = time.time()\n",
    "clf.fit(X_train, y_train)\n",
    "end = time.time()\n",
    "(end - start)/60"
   ]
  },
  {
   "cell_type": "code",
   "execution_count": 26,
   "metadata": {},
   "outputs": [
    {
     "data": {
      "text/plain": [
       "'Best score: 0.9955331245056688 '"
      ]
     },
     "execution_count": 26,
     "metadata": {},
     "output_type": "execute_result"
    }
   ],
   "source": [
    "f\"Best score: {clf.best_score_} \""
   ]
  },
  {
   "cell_type": "code",
   "execution_count": 27,
   "metadata": {},
   "outputs": [
    {
     "data": {
      "text/plain": [
       "\"Best parameter set {'pca__n_components': 5, 'xg__learning_rate': 1, 'xg__max_depth': 5, 'xg__n_estimators': 50}\""
      ]
     },
     "execution_count": 27,
     "metadata": {},
     "output_type": "execute_result"
    }
   ],
   "source": [
    "f\"Best parameter set {clf.best_params_}\""
   ]
  },
  {
   "cell_type": "code",
   "execution_count": 28,
   "metadata": {},
   "outputs": [
    {
     "name": "stderr",
     "output_type": "stream",
     "text": [
      "/opt/conda/lib/python3.6/site-packages/sklearn/pipeline.py:331: DataConversionWarning: Data with input dtype int64, float64 were all converted to float64 by StandardScaler.\n",
      "  Xt = transform.transform(Xt)\n"
     ]
    },
    {
     "data": {
      "text/plain": [
       "array([1, 0, 0, ..., 1, 0, 1])"
      ]
     },
     "execution_count": 28,
     "metadata": {},
     "output_type": "execute_result"
    }
   ],
   "source": [
    "y_pred = clf.predict(X_test)\n",
    "y_pred"
   ]
  },
  {
   "cell_type": "code",
   "execution_count": 29,
   "metadata": {},
   "outputs": [
    {
     "data": {
      "text/plain": [
       "'Accuracy: 98.7962550156041'"
      ]
     },
     "execution_count": 29,
     "metadata": {},
     "output_type": "execute_result"
    }
   ],
   "source": [
    "accuracy = accuracy_score(y_test, y_pred)\n",
    "f\"Accuracy: {accuracy * 100.0}\""
   ]
  },
  {
   "cell_type": "markdown",
   "metadata": {},
   "source": [
    "### Randomized Search"
   ]
  },
  {
   "cell_type": "code",
   "execution_count": 30,
   "metadata": {},
   "outputs": [],
   "source": [
    "parameters = {'xg__learning_rate':  uniform(0, 1),\n",
    "              'xg__n_estimators':   range(50,100),\n",
    "              'xg__max_depth':      range(3,5),\n",
    "              'pca__n_components' : range(5,7)}"
   ]
  },
  {
   "cell_type": "code",
   "execution_count": 31,
   "metadata": {},
   "outputs": [],
   "source": [
    "rs = RandomizedSearchCV(pipe_xg,\n",
    "                        param_distributions=parameters,\n",
    "                        scoring= ['roc_auc', 'accuracy'],\n",
    "                        n_iter=15,          \n",
    "                                            \n",
    "                        verbose = 3,\n",
    "                        refit = 'roc_auc',\n",
    "                        n_jobs = 2,          \n",
    "                        cv = 2              \n",
    "                                             \n",
    "                        )"
   ]
  },
  {
   "cell_type": "code",
   "execution_count": 32,
   "metadata": {},
   "outputs": [
    {
     "name": "stderr",
     "output_type": "stream",
     "text": [
      "[Parallel(n_jobs=2)]: Using backend LokyBackend with 2 concurrent workers.\n"
     ]
    },
    {
     "name": "stdout",
     "output_type": "stream",
     "text": [
      "Fitting 2 folds for each of 15 candidates, totalling 30 fits\n"
     ]
    },
    {
     "name": "stderr",
     "output_type": "stream",
     "text": [
      "[Parallel(n_jobs=2)]: Done  30 out of  30 | elapsed:    4.2s finished\n",
      "/opt/conda/lib/python3.6/site-packages/sklearn/preprocessing/data.py:645: DataConversionWarning: Data with input dtype int64, float64 were all converted to float64 by StandardScaler.\n",
      "  return self.partial_fit(X, y)\n",
      "/opt/conda/lib/python3.6/site-packages/sklearn/base.py:467: DataConversionWarning: Data with input dtype int64, float64 were all converted to float64 by StandardScaler.\n",
      "  return self.fit(X, y, **fit_params).transform(X)\n"
     ]
    },
    {
     "data": {
      "text/plain": [
       "0.07507172028223673"
      ]
     },
     "execution_count": 32,
     "metadata": {},
     "output_type": "execute_result"
    }
   ],
   "source": [
    "#Run random search for 25 iterations. \n",
    "start = time.time()\n",
    "rs.fit(X_train, y_train)\n",
    "end = time.time()\n",
    "(end - start)/60"
   ]
  },
  {
   "cell_type": "code",
   "execution_count": 33,
   "metadata": {},
   "outputs": [
    {
     "data": {
      "text/plain": [
       "'Best score: 0.9956919100646345 '"
      ]
     },
     "execution_count": 33,
     "metadata": {},
     "output_type": "execute_result"
    }
   ],
   "source": [
    "f\"Best score: {rs.best_score_} \""
   ]
  },
  {
   "cell_type": "code",
   "execution_count": 34,
   "metadata": {},
   "outputs": [
    {
     "data": {
      "text/plain": [
       "\"Best parameter set: {'pca__n_components': 5, 'xg__learning_rate': 0.325509936593261, 'xg__max_depth': 4, 'xg__n_estimators': 73} \""
      ]
     },
     "execution_count": 34,
     "metadata": {},
     "output_type": "execute_result"
    }
   ],
   "source": [
    "f\"Best parameter set: {rs.best_params_} \""
   ]
  },
  {
   "cell_type": "code",
   "execution_count": 35,
   "metadata": {},
   "outputs": [
    {
     "name": "stderr",
     "output_type": "stream",
     "text": [
      "/opt/conda/lib/python3.6/site-packages/sklearn/pipeline.py:331: DataConversionWarning: Data with input dtype int64, float64 were all converted to float64 by StandardScaler.\n",
      "  Xt = transform.transform(Xt)\n"
     ]
    },
    {
     "data": {
      "text/plain": [
       "'Accuracy: 98.7962550156041'"
      ]
     },
     "execution_count": 35,
     "metadata": {},
     "output_type": "execute_result"
    }
   ],
   "source": [
    "y_pred = rs.predict(X_test)\n",
    "accuracy = accuracy_score(y_test, y_pred)\n",
    "f\"Accuracy: {accuracy * 100.0}\""
   ]
  },
  {
   "cell_type": "markdown",
   "metadata": {},
   "source": [
    "### Bayes Optimization"
   ]
  },
  {
   "cell_type": "code",
   "execution_count": 36,
   "metadata": {},
   "outputs": [],
   "source": [
    "para_set = {\n",
    "           'learning_rate':  (0, 1),                 \n",
    "           'n_estimators':   (50,100),               \n",
    "           'max_depth':      (3,5),               \n",
    "           'n_components' :  (5,7)                \n",
    "            }\n"
   ]
  },
  {
   "cell_type": "code",
   "execution_count": 37,
   "metadata": {},
   "outputs": [],
   "source": [
    "def xg_eval(learning_rate,n_estimators, max_depth,n_components):\n",
    "    pipe_xg1 = make_pipeline (ss(),                        \n",
    "                              PCA(n_components=int(round(n_components))),\n",
    "                              XGBClassifier(\n",
    "                                           silent = False,\n",
    "                                           n_jobs=2,\n",
    "                                           learning_rate=learning_rate,\n",
    "                                           max_depth=int(round(max_depth)),\n",
    "                                           n_estimators=int(round(n_estimators))\n",
    "                                           )\n",
    "                             )\n",
    "\n",
    "    cv_result = cross_val_score(estimator = pipe_xg1,\n",
    "                                X= X_train,\n",
    "                                y = y_train,\n",
    "                                cv = 2,\n",
    "                                n_jobs = 2,\n",
    "                                scoring = 'f1'\n",
    "                                ).mean()             # take the average of all results\n",
    "\n",
    "\n",
    "    return cv_result"
   ]
  },
  {
   "cell_type": "code",
   "execution_count": 38,
   "metadata": {},
   "outputs": [],
   "source": [
    "xgBO = BayesianOptimization(\n",
    "                             xg_eval,     # Function to evaluate performance.\n",
    "                             para_set     # Parameter set from where parameters will be selected\n",
    "                             )"
   ]
  },
  {
   "cell_type": "code",
   "execution_count": 39,
   "metadata": {},
   "outputs": [
    {
     "name": "stdout",
     "output_type": "stream",
     "text": [
      "|   iter    |  target   | learni... | max_depth | n_comp... | n_esti... |\n",
      "-------------------------------------------------------------------------\n",
      "| \u001b[0m 1       \u001b[0m | \u001b[0m 0.9914  \u001b[0m | \u001b[0m 0.631   \u001b[0m | \u001b[0m 4.906   \u001b[0m | \u001b[0m 5.979   \u001b[0m | \u001b[0m 95.43   \u001b[0m |\n",
      "| \u001b[0m 2       \u001b[0m | \u001b[0m 0.9903  \u001b[0m | \u001b[0m 0.1144  \u001b[0m | \u001b[0m 4.851   \u001b[0m | \u001b[0m 5.46    \u001b[0m | \u001b[0m 52.48   \u001b[0m |\n",
      "| \u001b[95m 3       \u001b[0m | \u001b[95m 0.9914  \u001b[0m | \u001b[95m 0.9404  \u001b[0m | \u001b[95m 3.575   \u001b[0m | \u001b[95m 6.276   \u001b[0m | \u001b[95m 61.17   \u001b[0m |\n",
      "| \u001b[0m 4       \u001b[0m | \u001b[0m 0.9911  \u001b[0m | \u001b[0m 0.7284  \u001b[0m | \u001b[0m 4.498   \u001b[0m | \u001b[0m 6.966   \u001b[0m | \u001b[0m 99.39   \u001b[0m |\n",
      "| \u001b[95m 5       \u001b[0m | \u001b[95m 0.9915  \u001b[0m | \u001b[95m 0.955   \u001b[0m | \u001b[95m 3.586   \u001b[0m | \u001b[95m 6.751   \u001b[0m | \u001b[95m 82.46   \u001b[0m |\n",
      "| \u001b[0m 6       \u001b[0m | \u001b[0m 0.9915  \u001b[0m | \u001b[0m 0.8681  \u001b[0m | \u001b[0m 3.193   \u001b[0m | \u001b[0m 6.512   \u001b[0m | \u001b[0m 99.98   \u001b[0m |\n",
      "| \u001b[0m 7       \u001b[0m | \u001b[0m 0.9901  \u001b[0m | \u001b[0m 0.0252  \u001b[0m | \u001b[0m 3.163   \u001b[0m | \u001b[0m 5.354   \u001b[0m | \u001b[0m 50.01   \u001b[0m |\n",
      "| \u001b[0m 8       \u001b[0m | \u001b[0m 0.9914  \u001b[0m | \u001b[0m 0.4641  \u001b[0m | \u001b[0m 3.019   \u001b[0m | \u001b[0m 6.412   \u001b[0m | \u001b[0m 99.98   \u001b[0m |\n",
      "| \u001b[0m 9       \u001b[0m | \u001b[0m 0.9914  \u001b[0m | \u001b[0m 0.3609  \u001b[0m | \u001b[0m 3.198   \u001b[0m | \u001b[0m 5.022   \u001b[0m | \u001b[0m 100.0   \u001b[0m |\n",
      "| \u001b[95m 10      \u001b[0m | \u001b[95m 0.9925  \u001b[0m | \u001b[95m 0.7477  \u001b[0m | \u001b[95m 3.629   \u001b[0m | \u001b[95m 5.305   \u001b[0m | \u001b[95m 99.98   \u001b[0m |\n",
      "| \u001b[0m 11      \u001b[0m | \u001b[0m 0.9901  \u001b[0m | \u001b[0m 0.153   \u001b[0m | \u001b[0m 4.906   \u001b[0m | \u001b[0m 5.01    \u001b[0m | \u001b[0m 99.99   \u001b[0m |\n",
      "| \u001b[0m 12      \u001b[0m | \u001b[0m 0.9919  \u001b[0m | \u001b[0m 0.835   \u001b[0m | \u001b[0m 4.906   \u001b[0m | \u001b[0m 6.969   \u001b[0m | \u001b[0m 99.97   \u001b[0m |\n",
      "| \u001b[0m 13      \u001b[0m | \u001b[0m 0.9911  \u001b[0m | \u001b[0m 0.9851  \u001b[0m | \u001b[0m 3.261   \u001b[0m | \u001b[0m 6.889   \u001b[0m | \u001b[0m 99.96   \u001b[0m |\n",
      "| \u001b[0m 14      \u001b[0m | \u001b[0m 0.9911  \u001b[0m | \u001b[0m 0.7992  \u001b[0m | \u001b[0m 3.362   \u001b[0m | \u001b[0m 6.554   \u001b[0m | \u001b[0m 50.0    \u001b[0m |\n",
      "| \u001b[0m 15      \u001b[0m | \u001b[0m 0.9917  \u001b[0m | \u001b[0m 0.8926  \u001b[0m | \u001b[0m 3.865   \u001b[0m | \u001b[0m 5.66    \u001b[0m | \u001b[0m 99.98   \u001b[0m |\n",
      "| \u001b[0m 16      \u001b[0m | \u001b[0m 0.9907  \u001b[0m | \u001b[0m 0.6345  \u001b[0m | \u001b[0m 3.124   \u001b[0m | \u001b[0m 5.2     \u001b[0m | \u001b[0m 99.96   \u001b[0m |\n",
      "| \u001b[0m 17      \u001b[0m | \u001b[0m 0.9893  \u001b[0m | \u001b[0m 0.01403 \u001b[0m | \u001b[0m 3.657   \u001b[0m | \u001b[0m 6.983   \u001b[0m | \u001b[0m 99.98   \u001b[0m |\n",
      "| \u001b[0m 18      \u001b[0m | \u001b[0m 0.9895  \u001b[0m | \u001b[0m 0.01064 \u001b[0m | \u001b[0m 3.17    \u001b[0m | \u001b[0m 5.313   \u001b[0m | \u001b[0m 50.0    \u001b[0m |\n",
      "| \u001b[0m 19      \u001b[0m | \u001b[0m 0.9917  \u001b[0m | \u001b[0m 0.5466  \u001b[0m | \u001b[0m 4.691   \u001b[0m | \u001b[0m 6.817   \u001b[0m | \u001b[0m 99.98   \u001b[0m |\n",
      "| \u001b[0m 20      \u001b[0m | \u001b[0m 0.992   \u001b[0m | \u001b[0m 0.9001  \u001b[0m | \u001b[0m 4.184   \u001b[0m | \u001b[0m 6.617   \u001b[0m | \u001b[0m 99.95   \u001b[0m |\n",
      "| \u001b[0m 21      \u001b[0m | \u001b[0m 0.9909  \u001b[0m | \u001b[0m 0.6307  \u001b[0m | \u001b[0m 4.695   \u001b[0m | \u001b[0m 6.613   \u001b[0m | \u001b[0m 99.98   \u001b[0m |\n",
      "| \u001b[0m 22      \u001b[0m | \u001b[0m 0.9917  \u001b[0m | \u001b[0m 0.6482  \u001b[0m | \u001b[0m 4.849   \u001b[0m | \u001b[0m 5.069   \u001b[0m | \u001b[0m 99.91   \u001b[0m |\n",
      "| \u001b[0m 23      \u001b[0m | \u001b[0m 0.9903  \u001b[0m | \u001b[0m 0.1452  \u001b[0m | \u001b[0m 4.273   \u001b[0m | \u001b[0m 5.256   \u001b[0m | \u001b[0m 99.99   \u001b[0m |\n",
      "| \u001b[0m 24      \u001b[0m | \u001b[0m 0.9912  \u001b[0m | \u001b[0m 0.5609  \u001b[0m | \u001b[0m 4.924   \u001b[0m | \u001b[0m 5.539   \u001b[0m | \u001b[0m 99.97   \u001b[0m |\n",
      "| \u001b[0m 25      \u001b[0m | \u001b[0m 0.9906  \u001b[0m | \u001b[0m 0.9931  \u001b[0m | \u001b[0m 3.046   \u001b[0m | \u001b[0m 5.906   \u001b[0m | \u001b[0m 99.9    \u001b[0m |\n",
      "| \u001b[0m 26      \u001b[0m | \u001b[0m 0.9914  \u001b[0m | \u001b[0m 0.8905  \u001b[0m | \u001b[0m 4.983   \u001b[0m | \u001b[0m 5.092   \u001b[0m | \u001b[0m 99.89   \u001b[0m |\n",
      "| \u001b[0m 27      \u001b[0m | \u001b[0m 0.9907  \u001b[0m | \u001b[0m 0.1821  \u001b[0m | \u001b[0m 4.196   \u001b[0m | \u001b[0m 6.324   \u001b[0m | \u001b[0m 99.91   \u001b[0m |\n",
      "| \u001b[0m 28      \u001b[0m | \u001b[0m 0.9912  \u001b[0m | \u001b[0m 0.3003  \u001b[0m | \u001b[0m 4.635   \u001b[0m | \u001b[0m 5.024   \u001b[0m | \u001b[0m 99.76   \u001b[0m |\n",
      "| \u001b[0m 29      \u001b[0m | \u001b[0m 0.9911  \u001b[0m | \u001b[0m 0.1748  \u001b[0m | \u001b[0m 3.124   \u001b[0m | \u001b[0m 5.52    \u001b[0m | \u001b[0m 99.99   \u001b[0m |\n",
      "| \u001b[0m 30      \u001b[0m | \u001b[0m 0.9901  \u001b[0m | \u001b[0m 0.01935 \u001b[0m | \u001b[0m 3.719   \u001b[0m | \u001b[0m 6.855   \u001b[0m | \u001b[0m 99.97   \u001b[0m |\n",
      "=========================================================================\n"
     ]
    },
    {
     "data": {
      "text/plain": [
       "3.8684720079104107"
      ]
     },
     "execution_count": 39,
     "metadata": {},
     "output_type": "execute_result"
    }
   ],
   "source": [
    "start = time.time()\n",
    "xgBO.maximize(init_points=5,    \n",
    "               n_iter=25,        \n",
    "               )\n",
    "end = time.time()\n",
    "(end-start)/60"
   ]
  },
  {
   "cell_type": "code",
   "execution_count": 40,
   "metadata": {},
   "outputs": [
    {
     "data": {
      "text/plain": [
       "[{'target': 0.9913751763621683,\n",
       "  'params': {'learning_rate': 0.6310405496692258,\n",
       "   'max_depth': 4.905586139995997,\n",
       "   'n_components': 5.979290434976809,\n",
       "   'n_estimators': 95.43161953214837}},\n",
       " {'target': 0.9902548407630191,\n",
       "  'params': {'learning_rate': 0.1144407915538731,\n",
       "   'max_depth': 4.850567928602615,\n",
       "   'n_components': 5.46042174582158,\n",
       "   'n_estimators': 52.47582521609293}},\n",
       " {'target': 0.9913755724556238,\n",
       "  'params': {'learning_rate': 0.9404341424182943,\n",
       "   'max_depth': 3.5750133114706912,\n",
       "   'n_components': 6.2756452800572315,\n",
       "   'n_estimators': 61.16701808338626}},\n",
       " {'target': 0.9910521248103088,\n",
       "  'params': {'learning_rate': 0.7284036359320908,\n",
       "   'max_depth': 4.498119601396599,\n",
       "   'n_components': 6.966481761720916,\n",
       "   'n_estimators': 99.39208784182156}},\n",
       " {'target': 0.9915386807243306,\n",
       "  'params': {'learning_rate': 0.9549520965599362,\n",
       "   'max_depth': 3.585691750321426,\n",
       "   'n_components': 6.750580877734652,\n",
       "   'n_estimators': 82.45680745268263}},\n",
       " {'target': 0.9915369590485122,\n",
       "  'params': {'learning_rate': 0.8681288798767999,\n",
       "   'max_depth': 3.193237147249629,\n",
       "   'n_components': 6.512141031007069,\n",
       "   'n_estimators': 99.98476879340204}},\n",
       " {'target': 0.9900963977262532,\n",
       "  'params': {'learning_rate': 0.025196048311325048,\n",
       "   'max_depth': 3.163387507785005,\n",
       "   'n_components': 5.353661587246137,\n",
       "   'n_estimators': 50.01268179522722}},\n",
       " {'target': 0.9913754855141674,\n",
       "  'params': {'learning_rate': 0.46414403388620573,\n",
       "   'max_depth': 3.0190286789099434,\n",
       "   'n_components': 6.411664936935788,\n",
       "   'n_estimators': 99.98483446621836}},\n",
       " {'target': 0.9913774062696881,\n",
       "  'params': {'learning_rate': 0.36086624395277966,\n",
       "   'max_depth': 3.1981168282538555,\n",
       "   'n_components': 5.022290727428032,\n",
       "   'n_estimators': 99.99630741471611}},\n",
       " {'target': 0.9925017067929137,\n",
       "  'params': {'learning_rate': 0.7476926652441086,\n",
       "   'max_depth': 3.6290472288398137,\n",
       "   'n_components': 5.304958267784073,\n",
       "   'n_estimators': 99.97650662521058}},\n",
       " {'target': 0.9900943376979479,\n",
       "  'params': {'learning_rate': 0.15298002509275455,\n",
       "   'max_depth': 4.906187954851854,\n",
       "   'n_components': 5.009536965545261,\n",
       "   'n_estimators': 99.98998393573052}},\n",
       " {'target': 0.991854388552947,\n",
       "  'params': {'learning_rate': 0.8350369474616357,\n",
       "   'max_depth': 4.906471537253273,\n",
       "   'n_components': 6.968672245232415,\n",
       "   'n_estimators': 99.97010433891845}},\n",
       " {'target': 0.9910574541824633,\n",
       "  'params': {'learning_rate': 0.9851498586124598,\n",
       "   'max_depth': 3.2607308605118477,\n",
       "   'n_components': 6.888616206675609,\n",
       "   'n_estimators': 99.95933111094772}},\n",
       " {'target': 0.9910533862222209,\n",
       "  'params': {'learning_rate': 0.799193934795541,\n",
       "   'max_depth': 3.3621348077333755,\n",
       "   'n_components': 6.554396750090538,\n",
       "   'n_estimators': 50.00127084761463}},\n",
       " {'target': 0.9916974101177218,\n",
       "  'params': {'learning_rate': 0.8925770855337866,\n",
       "   'max_depth': 3.864653918271576,\n",
       "   'n_components': 5.6598818620480476,\n",
       "   'n_estimators': 99.97934732957917}},\n",
       " {'target': 0.9907392672825741,\n",
       "  'params': {'learning_rate': 0.6344610382068981,\n",
       "   'max_depth': 3.1238407803267023,\n",
       "   'n_components': 5.200100288521819,\n",
       "   'n_estimators': 99.95660150175158}},\n",
       " {'target': 0.989295832005924,\n",
       "  'params': {'learning_rate': 0.014029142100680736,\n",
       "   'max_depth': 3.656702355289929,\n",
       "   'n_components': 6.982569638468701,\n",
       "   'n_estimators': 99.98371554073978}},\n",
       " {'target': 0.9894679584180224,\n",
       "  'params': {'learning_rate': 0.010643170323243467,\n",
       "   'max_depth': 3.1703830931989914,\n",
       "   'n_components': 5.312933431085206,\n",
       "   'n_estimators': 50.004295167802695}},\n",
       " {'target': 0.9916928530443099,\n",
       "  'params': {'learning_rate': 0.5466441654926671,\n",
       "   'max_depth': 4.690882654468378,\n",
       "   'n_components': 6.817391435734489,\n",
       "   'n_estimators': 99.98343875227413}},\n",
       " {'target': 0.9920245953080397,\n",
       "  'params': {'learning_rate': 0.9000617756524081,\n",
       "   'max_depth': 4.183716728275329,\n",
       "   'n_components': 6.6169205825217015,\n",
       "   'n_estimators': 99.94959624742995}},\n",
       " {'target': 0.990893469387755,\n",
       "  'params': {'learning_rate': 0.6306712227689948,\n",
       "   'max_depth': 4.694665472703439,\n",
       "   'n_components': 6.612872214081866,\n",
       "   'n_estimators': 99.9819203795822}},\n",
       " {'target': 0.9916939391353733,\n",
       "  'params': {'learning_rate': 0.6482264304257717,\n",
       "   'max_depth': 4.849392966719239,\n",
       "   'n_components': 5.068695405940609,\n",
       "   'n_estimators': 99.91453065498462}},\n",
       " {'target': 0.9902526954246658,\n",
       "  'params': {'learning_rate': 0.14523462810720023,\n",
       "   'max_depth': 4.2734014955138555,\n",
       "   'n_components': 5.255694248770172,\n",
       "   'n_estimators': 99.9874877717694}},\n",
       " {'target': 0.9912097582459027,\n",
       "  'params': {'learning_rate': 0.5608830772722434,\n",
       "   'max_depth': 4.923721482033775,\n",
       "   'n_components': 5.5393274442305795,\n",
       "   'n_estimators': 99.97295881860904}},\n",
       " {'target': 0.9905782554807057,\n",
       "  'params': {'learning_rate': 0.9931459494074508,\n",
       "   'max_depth': 3.0460895719750702,\n",
       "   'n_components': 5.9062471048609275,\n",
       "   'n_estimators': 99.89693974334648}},\n",
       " {'target': 0.9913847416155075,\n",
       "  'params': {'learning_rate': 0.8904954328078498,\n",
       "   'max_depth': 4.982915658405362,\n",
       "   'n_components': 5.0919376910782335,\n",
       "   'n_estimators': 99.8936248584233}},\n",
       " {'target': 0.990732826575112,\n",
       "  'params': {'learning_rate': 0.1820954180298956,\n",
       "   'max_depth': 4.196286230755758,\n",
       "   'n_components': 6.32437848139541,\n",
       "   'n_estimators': 99.91017360495289}},\n",
       " {'target': 0.9912194364812075,\n",
       "  'params': {'learning_rate': 0.30030664394179996,\n",
       "   'max_depth': 4.634700536344072,\n",
       "   'n_components': 5.024242931108824,\n",
       "   'n_estimators': 99.76470450459607}},\n",
       " {'target': 0.9910578400764575,\n",
       "  'params': {'learning_rate': 0.17482286144908965,\n",
       "   'max_depth': 3.124356404895956,\n",
       "   'n_components': 5.520377479077083,\n",
       "   'n_estimators': 99.99128262090704}},\n",
       " {'target': 0.9900895563313731,\n",
       "  'params': {'learning_rate': 0.01934965990553361,\n",
       "   'max_depth': 3.7189993184145305,\n",
       "   'n_components': 6.855164299436474,\n",
       "   'n_estimators': 99.96896567285401}}]"
      ]
     },
     "execution_count": 40,
     "metadata": {},
     "output_type": "execute_result"
    }
   ],
   "source": [
    "xgBO.res"
   ]
  },
  {
   "cell_type": "code",
   "execution_count": 41,
   "metadata": {},
   "outputs": [
    {
     "data": {
      "text/plain": [
       "{'target': 0.9925017067929137,\n",
       " 'params': {'learning_rate': 0.7476926652441086,\n",
       "  'max_depth': 3.6290472288398137,\n",
       "  'n_components': 5.304958267784073,\n",
       "  'n_estimators': 99.97650662521058}}"
      ]
     },
     "execution_count": 41,
     "metadata": {},
     "output_type": "execute_result"
    }
   ],
   "source": [
    "xgBO.max"
   ]
  },
  {
   "cell_type": "markdown",
   "metadata": {},
   "source": [
    "## Model fitting using best parameters from above tuning techniques."
   ]
  },
  {
   "cell_type": "code",
   "execution_count": 42,
   "metadata": {},
   "outputs": [],
   "source": [
    "# Grid Search\n",
    "xg_gs = XGBClassifier(learning_rate = clf.best_params_['xg__learning_rate'],\n",
    "                    max_depth = clf.best_params_['xg__max_depth'],\n",
    "                    n_estimators=clf.best_params_['xg__n_estimators'])\n",
    "#Randomized search\n",
    "xg_rs = XGBClassifier(learning_rate = rs.best_params_['xg__learning_rate'],\n",
    "                    max_depth = rs.best_params_['xg__max_depth'],\n",
    "                    n_estimators=rs.best_params_['xg__n_estimators'])\n",
    "#Bayes Optimization\n",
    "xg_bo = XGBClassifier(learning_rate = xgBO.max['params']['learning_rate'],\n",
    "                    max_depth = int(xgBO.max['params']['max_depth']),\n",
    "                    n_estimators= int(xgBO.max['params']['n_estimators']))"
   ]
  },
  {
   "cell_type": "code",
   "execution_count": 43,
   "metadata": {},
   "outputs": [],
   "source": [
    "#Fit the data using X_Train and y_train\n",
    "xg_gs1 = xg_gs.fit(X_train,y_train)\n",
    "xg_rs1 = xg_rs.fit(X_train,y_train)\n",
    "xg_bo1 = xg_bo.fit(X_train,y_train)"
   ]
  },
  {
   "cell_type": "code",
   "execution_count": 44,
   "metadata": {},
   "outputs": [],
   "source": [
    "y_pred_xg_gs = xg_gs1.predict(X_test)\n",
    "y_pred_xg_rs = xg_rs1.predict(X_test)\n",
    "y_pred_xg_bo = xg_bo1.predict(X_test)"
   ]
  },
  {
   "cell_type": "code",
   "execution_count": 45,
   "metadata": {},
   "outputs": [],
   "source": [
    "y_pred_xg_gs_prob = xg_gs1.predict_proba(X_test)\n",
    "y_pred_xg_rs_prob = xg_rs1.predict_proba(X_test)\n",
    "y_pred_xg_bo_prob = xg_bo1.predict_proba(X_test)"
   ]
  },
  {
   "cell_type": "code",
   "execution_count": 46,
   "metadata": {},
   "outputs": [
    {
     "name": "stdout",
     "output_type": "stream",
     "text": [
      "0.9937583593401694\n",
      "0.9946500222915737\n",
      "0.9946500222915737\n"
     ]
    }
   ],
   "source": [
    "print (accuracy_score(y_test,y_pred_xg_gs))\n",
    "print (accuracy_score(y_test,y_pred_xg_rs))\n",
    "print (accuracy_score(y_test,y_pred_xg_bo))"
   ]
  },
  {
   "cell_type": "code",
   "execution_count": 47,
   "metadata": {},
   "outputs": [
    {
     "data": {
      "text/plain": [
       "array([[ 545,    8],\n",
       "       [   4, 1686]])"
      ]
     },
     "execution_count": 47,
     "metadata": {},
     "output_type": "execute_result"
    }
   ],
   "source": [
    "confusion_matrix(y_test,y_pred_xg_gs)\n",
    "confusion_matrix(y_test,y_pred_xg_rs)\n",
    "confusion_matrix(y_test,y_pred_xg_bo)"
   ]
  },
  {
   "cell_type": "markdown",
   "metadata": {},
   "source": [
    "### ROC Graph"
   ]
  },
  {
   "cell_type": "code",
   "execution_count": 48,
   "metadata": {},
   "outputs": [],
   "source": [
    "fpr_xg_gs, tpr_xg_gs, thresholds = roc_curve(y_test,\n",
    "                                 y_pred_xg_gs_prob[: , 1],\n",
    "                                 pos_label= 1\n",
    "                                 )\n",
    "fpr_xg_rs, tpr_xg_rs, thresholds = roc_curve(y_test,\n",
    "                                 y_pred_xg_rs_prob[: , 1],\n",
    "                                 pos_label= 1\n",
    "                                 )\n",
    "fpr_xg_bo, tpr_xg_bo, thresholds = roc_curve(y_test,\n",
    "                                 y_pred_xg_bo_prob[: , 1],\n",
    "                                 pos_label= 1\n",
    "                                 )"
   ]
  },
  {
   "cell_type": "markdown",
   "metadata": {},
   "source": [
    "### Calculate the Precision, Recall and F1 Score"
   ]
  },
  {
   "cell_type": "code",
   "execution_count": 49,
   "metadata": {},
   "outputs": [],
   "source": [
    "p_xg_gs,r_xg_gs,f_xg_gs,_ = precision_recall_fscore_support(y_test,y_pred_xg_gs)\n",
    "p_xg_rs,r_xg_rs,f_xg_rs,_ = precision_recall_fscore_support(y_test,y_pred_xg_rs)\n",
    "p_xg_bo,r_xg_bo,f_xg_bo,_ = precision_recall_fscore_support(y_test,y_pred_xg_bo)"
   ]
  },
  {
   "cell_type": "markdown",
   "metadata": {},
   "source": [
    "### Calculate the AUC(Area Under the ROC Curve)."
   ]
  },
  {
   "cell_type": "code",
   "execution_count": 50,
   "metadata": {},
   "outputs": [
    {
     "name": "stdout",
     "output_type": "stream",
     "text": [
      "0.9978974287640305\n",
      "0.9974630043763444\n",
      "0.9965278149309308\n"
     ]
    }
   ],
   "source": [
    "print (auc(fpr_xg_gs,tpr_xg_gs))\n",
    "print (auc(fpr_xg_rs,tpr_xg_rs))\n",
    "print (auc(fpr_xg_bo,tpr_xg_bo))"
   ]
  },
  {
   "cell_type": "markdown",
   "metadata": {},
   "source": [
    "### Below is the plotting the ROC curve for all the models."
   ]
  },
  {
   "cell_type": "code",
   "execution_count": 51,
   "metadata": {},
   "outputs": [
    {
     "data": {
      "image/png": "[encoded data removed]",
      "text/plain": [
       "<Figure size 864x720 with 1 Axes>"
      ]
     },
     "metadata": {},
     "output_type": "display_data"
    }
   ],
   "source": [
    "fig = plt.figure(figsize=(12,10))          # Create window frame\n",
    "ax = fig.add_subplot(111)   # Create axes\n",
    "# 9.2 Also connect diagonals\n",
    "ax.plot([0, 1], [0, 1], ls=\"--\")   # Dashed diagonal line\n",
    "# 9.3 Labels etc\n",
    "ax.set_xlabel('False Positive Rate')  # Final plot decorations\n",
    "ax.set_ylabel('True Positive Rate')\n",
    "ax.set_title('ROC curve for multiple tuning methods')\n",
    "# 9.4 Set graph limits\n",
    "ax.set_xlim([0.0, 1.0])\n",
    "ax.set_ylim([0.0, 1.0])\n",
    "\n",
    "# 9.5 Plot each graph now\n",
    "ax.plot(fpr_xg_gs, tpr_xg_gs, label = \"xg_gs\")\n",
    "ax.plot(fpr_xg_rs, tpr_xg_rs, label = \"xg_rs\")\n",
    "ax.plot(fpr_xg_bo, tpr_xg_bo, label = \"xg_bo\")\n",
    "# 9.6 Set legend and show plot\n",
    "ax.legend(loc=\"lower right\")\n",
    "plt.show()"
   ]
  }
 ],
 "metadata": {
  "kernelspec": {
   "display_name": "Python 3",
   "language": "python",
   "name": "python3"
  },
  "language_info": {
   "codemirror_mode": {
    "name": "ipython",
    "version": 3
   },
   "file_extension": ".py",
   "mimetype": "text/x-python",
   "name": "python",
   "nbconvert_exporter": "python",
   "pygments_lexer": "ipython3",
   "version": "3.7.3"
  }
 },
 "nbformat": 4,
 "nbformat_minor": 1
}
